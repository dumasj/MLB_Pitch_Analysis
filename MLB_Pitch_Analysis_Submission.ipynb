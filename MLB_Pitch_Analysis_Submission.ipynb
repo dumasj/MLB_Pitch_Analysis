{
 "cells": [
  {
   "cell_type": "code",
   "execution_count": 1,
   "metadata": {
    "collapsed": false
   },
   "outputs": [],
   "source": [
    "import pandas as pd\n",
    "pd.__version__\n",
    "\n",
    "import matplotlib.pyplot as plt\n",
    "\n",
    "import matplotlib.patches as patches\n",
    "\n",
    "import re\n"
   ]
  },
  {
   "cell_type": "markdown",
   "metadata": {},
   "source": [
    "# MLB Pitch Analysis\n",
    "\n",
    "## Project\n",
    "\n",
    "`This goal of this project is to predict the next pitch based on information about the teams, the pitcher, the batter, \n",
    "and the in game situation.`\n",
    "\n",
    "## Instructions\n",
    "\n",
    "`Start outlining the way you would go about the model-building process with the goal of predicting the probability\n",
    "that the next thrown pitch will be a fastball, slider, change-up, etc.`\n",
    "\n",
    "## Data\n",
    "\n",
    "`The data given for this project is from the 2011 MLB season.`\n"
   ]
  },
  {
   "cell_type": "code",
   "execution_count": 2,
   "metadata": {
    "collapsed": false
   },
   "outputs": [
    {
     "name": "stderr",
     "output_type": "stream",
     "text": [
      "//anaconda/lib/python2.7/site-packages/IPython/core/interactiveshell.py:2717: DtypeWarning: Columns (29,30) have mixed types. Specify dtype option on import or set low_memory=False.\n",
      "  interactivity=interactivity, compiler=compiler, result=result)\n"
     ]
    }
   ],
   "source": [
    "data = pd.read_csv(\"pitches\", sep=\",\")"
   ]
  },
  {
   "cell_type": "code",
   "execution_count": 3,
   "metadata": {
    "collapsed": false
   },
   "outputs": [
    {
     "data": {
      "text/html": [
       "<div>\n",
       "<style scoped>\n",
       "    .dataframe tbody tr th:only-of-type {\n",
       "        vertical-align: middle;\n",
       "    }\n",
       "\n",
       "    .dataframe tbody tr th {\n",
       "        vertical-align: top;\n",
       "    }\n",
       "\n",
       "    .dataframe thead th {\n",
       "        text-align: right;\n",
       "    }\n",
       "</style>\n",
       "<table border=\"1\" class=\"dataframe\">\n",
       "  <thead>\n",
       "    <tr style=\"text-align: right;\">\n",
       "      <th></th>\n",
       "      <th>uid</th>\n",
       "      <th>game_pk</th>\n",
       "      <th>year</th>\n",
       "      <th>date</th>\n",
       "      <th>team_id_b</th>\n",
       "      <th>team_id_p</th>\n",
       "      <th>inning</th>\n",
       "      <th>top</th>\n",
       "      <th>at_bat_num</th>\n",
       "      <th>pcount_at_bat</th>\n",
       "      <th>...</th>\n",
       "      <th>runner7_start</th>\n",
       "      <th>runner7_end</th>\n",
       "      <th>runner7_event</th>\n",
       "      <th>runner7_score</th>\n",
       "      <th>runner7_rbi</th>\n",
       "      <th>runner7_earned</th>\n",
       "      <th>created_at</th>\n",
       "      <th>added_at</th>\n",
       "      <th>modified_at</th>\n",
       "      <th>modified_by</th>\n",
       "    </tr>\n",
       "  </thead>\n",
       "  <tbody>\n",
       "    <tr>\n",
       "      <th>0</th>\n",
       "      <td>14143226</td>\n",
       "      <td>286874</td>\n",
       "      <td>2011</td>\n",
       "      <td>2011-03-31</td>\n",
       "      <td>108</td>\n",
       "      <td>118</td>\n",
       "      <td>1</td>\n",
       "      <td>1</td>\n",
       "      <td>1</td>\n",
       "      <td>1</td>\n",
       "      <td>...</td>\n",
       "      <td>NaN</td>\n",
       "      <td>NaN</td>\n",
       "      <td>NaN</td>\n",
       "      <td>NaN</td>\n",
       "      <td>NaN</td>\n",
       "      <td>NaN</td>\n",
       "      <td>2016-03-03 21:33:20</td>\n",
       "      <td>2016-03-03 21:33:20</td>\n",
       "      <td>2016-03-03 21:33:20</td>\n",
       "      <td>1</td>\n",
       "    </tr>\n",
       "    <tr>\n",
       "      <th>1</th>\n",
       "      <td>14143227</td>\n",
       "      <td>286874</td>\n",
       "      <td>2011</td>\n",
       "      <td>2011-03-31</td>\n",
       "      <td>108</td>\n",
       "      <td>118</td>\n",
       "      <td>1</td>\n",
       "      <td>1</td>\n",
       "      <td>1</td>\n",
       "      <td>2</td>\n",
       "      <td>...</td>\n",
       "      <td>NaN</td>\n",
       "      <td>NaN</td>\n",
       "      <td>NaN</td>\n",
       "      <td>NaN</td>\n",
       "      <td>NaN</td>\n",
       "      <td>NaN</td>\n",
       "      <td>2016-03-03 21:33:20</td>\n",
       "      <td>2016-03-03 21:33:20</td>\n",
       "      <td>2016-03-03 21:33:20</td>\n",
       "      <td>1</td>\n",
       "    </tr>\n",
       "    <tr>\n",
       "      <th>2</th>\n",
       "      <td>14143228</td>\n",
       "      <td>286874</td>\n",
       "      <td>2011</td>\n",
       "      <td>2011-03-31</td>\n",
       "      <td>108</td>\n",
       "      <td>118</td>\n",
       "      <td>1</td>\n",
       "      <td>1</td>\n",
       "      <td>1</td>\n",
       "      <td>3</td>\n",
       "      <td>...</td>\n",
       "      <td>NaN</td>\n",
       "      <td>NaN</td>\n",
       "      <td>NaN</td>\n",
       "      <td>NaN</td>\n",
       "      <td>NaN</td>\n",
       "      <td>NaN</td>\n",
       "      <td>2016-03-03 21:33:20</td>\n",
       "      <td>2016-03-03 21:33:20</td>\n",
       "      <td>2016-03-03 21:33:20</td>\n",
       "      <td>1</td>\n",
       "    </tr>\n",
       "    <tr>\n",
       "      <th>3</th>\n",
       "      <td>14143229</td>\n",
       "      <td>286874</td>\n",
       "      <td>2011</td>\n",
       "      <td>2011-03-31</td>\n",
       "      <td>108</td>\n",
       "      <td>118</td>\n",
       "      <td>1</td>\n",
       "      <td>1</td>\n",
       "      <td>1</td>\n",
       "      <td>4</td>\n",
       "      <td>...</td>\n",
       "      <td>NaN</td>\n",
       "      <td>NaN</td>\n",
       "      <td>NaN</td>\n",
       "      <td>NaN</td>\n",
       "      <td>NaN</td>\n",
       "      <td>NaN</td>\n",
       "      <td>2016-03-03 21:33:20</td>\n",
       "      <td>2016-03-03 21:33:20</td>\n",
       "      <td>2016-03-03 21:33:20</td>\n",
       "      <td>1</td>\n",
       "    </tr>\n",
       "    <tr>\n",
       "      <th>4</th>\n",
       "      <td>14143230</td>\n",
       "      <td>286874</td>\n",
       "      <td>2011</td>\n",
       "      <td>2011-03-31</td>\n",
       "      <td>108</td>\n",
       "      <td>118</td>\n",
       "      <td>1</td>\n",
       "      <td>1</td>\n",
       "      <td>2</td>\n",
       "      <td>1</td>\n",
       "      <td>...</td>\n",
       "      <td>NaN</td>\n",
       "      <td>NaN</td>\n",
       "      <td>NaN</td>\n",
       "      <td>NaN</td>\n",
       "      <td>NaN</td>\n",
       "      <td>NaN</td>\n",
       "      <td>2016-03-03 21:33:20</td>\n",
       "      <td>2016-03-03 21:33:20</td>\n",
       "      <td>2016-03-03 21:33:20</td>\n",
       "      <td>1</td>\n",
       "    </tr>\n",
       "  </tbody>\n",
       "</table>\n",
       "<p>5 rows × 125 columns</p>\n",
       "</div>"
      ],
      "text/plain": [
       "        uid  game_pk  year        date  team_id_b  team_id_p  inning  top  \\\n",
       "0  14143226   286874  2011  2011-03-31        108        118       1    1   \n",
       "1  14143227   286874  2011  2011-03-31        108        118       1    1   \n",
       "2  14143228   286874  2011  2011-03-31        108        118       1    1   \n",
       "3  14143229   286874  2011  2011-03-31        108        118       1    1   \n",
       "4  14143230   286874  2011  2011-03-31        108        118       1    1   \n",
       "\n",
       "   at_bat_num  pcount_at_bat  ...  runner7_start  runner7_end  runner7_event  \\\n",
       "0           1              1  ...            NaN          NaN            NaN   \n",
       "1           1              2  ...            NaN          NaN            NaN   \n",
       "2           1              3  ...            NaN          NaN            NaN   \n",
       "3           1              4  ...            NaN          NaN            NaN   \n",
       "4           2              1  ...            NaN          NaN            NaN   \n",
       "\n",
       "   runner7_score  runner7_rbi  runner7_earned           created_at  \\\n",
       "0            NaN          NaN             NaN  2016-03-03 21:33:20   \n",
       "1            NaN          NaN             NaN  2016-03-03 21:33:20   \n",
       "2            NaN          NaN             NaN  2016-03-03 21:33:20   \n",
       "3            NaN          NaN             NaN  2016-03-03 21:33:20   \n",
       "4            NaN          NaN             NaN  2016-03-03 21:33:20   \n",
       "\n",
       "              added_at          modified_at  modified_by  \n",
       "0  2016-03-03 21:33:20  2016-03-03 21:33:20            1  \n",
       "1  2016-03-03 21:33:20  2016-03-03 21:33:20            1  \n",
       "2  2016-03-03 21:33:20  2016-03-03 21:33:20            1  \n",
       "3  2016-03-03 21:33:20  2016-03-03 21:33:20            1  \n",
       "4  2016-03-03 21:33:20  2016-03-03 21:33:20            1  \n",
       "\n",
       "[5 rows x 125 columns]"
      ]
     },
     "execution_count": 3,
     "metadata": {},
     "output_type": "execute_result"
    }
   ],
   "source": [
    "data.head()"
   ]
  },
  {
   "cell_type": "code",
   "execution_count": 4,
   "metadata": {
    "collapsed": false
   },
   "outputs": [
    {
     "name": "stdout",
     "output_type": "stream",
     "text": [
      "(718961, 125)\n"
     ]
    }
   ],
   "source": [
    "print(data.shape)"
   ]
  },
  {
   "cell_type": "markdown",
   "metadata": {},
   "source": [
    "## Clean the 2011 MLB data"
   ]
  },
  {
   "cell_type": "code",
   "execution_count": 5,
   "metadata": {
    "collapsed": false
   },
   "outputs": [
    {
     "data": {
      "text/html": [
       "<div>\n",
       "<style scoped>\n",
       "    .dataframe tbody tr th:only-of-type {\n",
       "        vertical-align: middle;\n",
       "    }\n",
       "\n",
       "    .dataframe tbody tr th {\n",
       "        vertical-align: top;\n",
       "    }\n",
       "\n",
       "    .dataframe thead th {\n",
       "        text-align: right;\n",
       "    }\n",
       "</style>\n",
       "<table border=\"1\" class=\"dataframe\">\n",
       "  <thead>\n",
       "    <tr style=\"text-align: right;\">\n",
       "      <th></th>\n",
       "      <th>y</th>\n",
       "      <th>sv_id</th>\n",
       "      <th>start_speed</th>\n",
       "      <th>end_speed</th>\n",
       "      <th>sz_top</th>\n",
       "      <th>sz_bot</th>\n",
       "      <th>pfx_x</th>\n",
       "      <th>pfx_z</th>\n",
       "      <th>px</th>\n",
       "      <th>pz</th>\n",
       "      <th>x0</th>\n",
       "    </tr>\n",
       "  </thead>\n",
       "  <tbody>\n",
       "    <tr>\n",
       "      <th>0</th>\n",
       "      <td>180.46</td>\n",
       "      <td>NaN</td>\n",
       "      <td>NaN</td>\n",
       "      <td>NaN</td>\n",
       "      <td>NaN</td>\n",
       "      <td>NaN</td>\n",
       "      <td>NaN</td>\n",
       "      <td>NaN</td>\n",
       "      <td>NaN</td>\n",
       "      <td>NaN</td>\n",
       "      <td>NaN</td>\n",
       "    </tr>\n",
       "    <tr>\n",
       "      <th>1</th>\n",
       "      <td>170.96</td>\n",
       "      <td>NaN</td>\n",
       "      <td>NaN</td>\n",
       "      <td>NaN</td>\n",
       "      <td>NaN</td>\n",
       "      <td>NaN</td>\n",
       "      <td>NaN</td>\n",
       "      <td>NaN</td>\n",
       "      <td>NaN</td>\n",
       "      <td>NaN</td>\n",
       "      <td>NaN</td>\n",
       "    </tr>\n",
       "    <tr>\n",
       "      <th>2</th>\n",
       "      <td>152.83</td>\n",
       "      <td>NaN</td>\n",
       "      <td>NaN</td>\n",
       "      <td>NaN</td>\n",
       "      <td>NaN</td>\n",
       "      <td>NaN</td>\n",
       "      <td>NaN</td>\n",
       "      <td>NaN</td>\n",
       "      <td>NaN</td>\n",
       "      <td>NaN</td>\n",
       "      <td>NaN</td>\n",
       "    </tr>\n",
       "    <tr>\n",
       "      <th>3</th>\n",
       "      <td>168.37</td>\n",
       "      <td>NaN</td>\n",
       "      <td>NaN</td>\n",
       "      <td>NaN</td>\n",
       "      <td>NaN</td>\n",
       "      <td>NaN</td>\n",
       "      <td>NaN</td>\n",
       "      <td>NaN</td>\n",
       "      <td>NaN</td>\n",
       "      <td>NaN</td>\n",
       "      <td>NaN</td>\n",
       "    </tr>\n",
       "  </tbody>\n",
       "</table>\n",
       "</div>"
      ],
      "text/plain": [
       "        y sv_id  start_speed  end_speed  sz_top  sz_bot  pfx_x  pfx_z  px  pz  \\\n",
       "0  180.46   NaN          NaN        NaN     NaN     NaN    NaN    NaN NaN NaN   \n",
       "1  170.96   NaN          NaN        NaN     NaN     NaN    NaN    NaN NaN NaN   \n",
       "2  152.83   NaN          NaN        NaN     NaN     NaN    NaN    NaN NaN NaN   \n",
       "3  168.37   NaN          NaN        NaN     NaN     NaN    NaN    NaN NaN NaN   \n",
       "\n",
       "   x0  \n",
       "0 NaN  \n",
       "1 NaN  \n",
       "2 NaN  \n",
       "3 NaN  "
      ]
     },
     "execution_count": 5,
     "metadata": {},
     "output_type": "execute_result"
    }
   ],
   "source": [
    "# There are a number of columns with all nan\n",
    "\n",
    "data.iloc[0:4, 40:51]"
   ]
  },
  {
   "cell_type": "code",
   "execution_count": 6,
   "metadata": {
    "collapsed": false
   },
   "outputs": [
    {
     "name": "stdout",
     "output_type": "stream",
     "text": [
      "(718961, 76)\n"
     ]
    }
   ],
   "source": [
    "# drop the columns with all nan\n",
    "\n",
    "clean_data = data.dropna(axis='columns', how='all')\n",
    "\n",
    "print(clean_data.shape)"
   ]
  },
  {
   "cell_type": "code",
   "execution_count": 7,
   "metadata": {
    "collapsed": false
   },
   "outputs": [
    {
     "data": {
      "text/plain": [
       "Index([u'uid', u'game_pk', u'year', u'date', u'team_id_b', u'team_id_p',\n",
       "       u'inning', u'top', u'at_bat_num', u'pcount_at_bat', u'pcount_pitcher',\n",
       "       u'balls', u'strikes', u'fouls', u'outs', u'is_final_pitch',\n",
       "       u'final_balls', u'final_strikes', u'final_outs', u'start_tfs',\n",
       "       u'start_tfs_zulu', u'batter_id', u'stand', u'b_height', u'pitcher_id',\n",
       "       u'p_throws', u'at_bat_des', u'event', u'event2', u'event3', u'event4',\n",
       "       u'away_team_runs', u'home_team_runs', u'score', u'pitch_des',\n",
       "       u'pitch_id', u'type', u'pitch_tfs', u'pitch_tfs_zulu', u'x', u'y',\n",
       "       u'sv_id', u'start_speed', u'end_speed', u'sz_top', u'sz_bot', u'pfx_x',\n",
       "       u'pfx_z', u'px', u'pz', u'x0', u'z0', u'y0', u'vx0', u'vz0', u'vy0',\n",
       "       u'ax', u'az', u'ay', u'break_length', u'break_y', u'break_angle',\n",
       "       u'pitch_type', u'type_confidence', u'zone', u'nasty', u'spin_dir',\n",
       "       u'spin_rate', u'cc', u'on_1b', u'on_2b', u'on_3b', u'created_at',\n",
       "       u'added_at', u'modified_at', u'modified_by'],\n",
       "      dtype='object')"
      ]
     },
     "execution_count": 7,
     "metadata": {},
     "output_type": "execute_result"
    }
   ],
   "source": [
    "clean_data.columns"
   ]
  },
  {
   "cell_type": "code",
   "execution_count": 8,
   "metadata": {
    "collapsed": false
   },
   "outputs": [
    {
     "name": "stdout",
     "output_type": "stream",
     "text": [
      "Index([u'event2', u'event3', u'event4', u'score', u'pitch_tfs',\n",
      "       u'pitch_tfs_zulu', u'sv_id', u'start_speed', u'end_speed', u'sz_top',\n",
      "       u'sz_bot', u'pfx_x', u'pfx_z', u'px', u'pz', u'x0', u'z0', u'y0',\n",
      "       u'vx0', u'vz0', u'vy0', u'ax', u'az', u'ay', u'break_length',\n",
      "       u'break_y', u'break_angle', u'pitch_type', u'type_confidence', u'zone',\n",
      "       u'nasty', u'spin_dir', u'spin_rate', u'cc', u'on_1b', u'on_2b',\n",
      "       u'on_3b'],\n",
      "      dtype='object')\n",
      "(37,)\n"
     ]
    }
   ],
   "source": [
    "# Check is there's any column with a nan\n",
    "\n",
    "print(clean_data.columns[clean_data.isna().any()])\n",
    "\n",
    "print(clean_data.columns[clean_data.isna().any()].shape)"
   ]
  },
  {
   "cell_type": "code",
   "execution_count": 9,
   "metadata": {
    "collapsed": false
   },
   "outputs": [
    {
     "data": {
      "text/plain": [
       "(716681, 76)"
      ]
     },
     "execution_count": 9,
     "metadata": {},
     "output_type": "execute_result"
    }
   ],
   "source": [
    "# drop rows with any nan for pitch type\n",
    "\n",
    "clean_data = clean_data.dropna(axis='rows', how='any', subset=['pitch_type'])\n",
    "\n",
    "clean_data.shape"
   ]
  },
  {
   "cell_type": "code",
   "execution_count": 10,
   "metadata": {
    "collapsed": false
   },
   "outputs": [
    {
     "data": {
      "text/plain": [
       "(716681, 76)"
      ]
     },
     "execution_count": 10,
     "metadata": {},
     "output_type": "execute_result"
    }
   ],
   "source": [
    "# drop rows with any nan for type confidence\n",
    "\n",
    "clean_data = clean_data.dropna(axis='rows', how='any', subset=['type_confidence'])\n",
    "\n",
    "clean_data.shape"
   ]
  },
  {
   "cell_type": "markdown",
   "metadata": {},
   "source": [
    "## Plot the data\n",
    "`The plot shows the position of the pitches when crossing home plate. The red box is the estimated strike zone. The\n",
    "bottom and top bounds of the strike zone (z direction) depend on the batter height. These are averaged from the 2011 \n",
    "data (1.60 and 3.40). The width of the strike zone is the same as home plate (17 in).`"
   ]
  },
  {
   "cell_type": "code",
   "execution_count": 11,
   "metadata": {
    "collapsed": false
   },
   "outputs": [
    {
     "data": {
      "text/plain": [
       "(count    716681.000000\n",
       " mean          1.600354\n",
       " std           0.136247\n",
       " min           0.000000\n",
       " 25%           1.510000\n",
       " 50%           1.600000\n",
       " 75%           1.690000\n",
       " max           3.150000\n",
       " Name: sz_bot, dtype: float64, count    716681.000000\n",
       " mean          3.398461\n",
       " std           0.206579\n",
       " min           0.000000\n",
       " 25%           3.260000\n",
       " 50%           3.400000\n",
       " 75%           3.540000\n",
       " max           4.310000\n",
       " Name: sz_top, dtype: float64)"
      ]
     },
     "execution_count": 11,
     "metadata": {},
     "output_type": "execute_result"
    }
   ],
   "source": [
    "# The bottom and top bounds of the strike zone (z direction) depend on the batter height\n",
    "# These are averaged from the 2011 data (1.60 and 3.40)\n",
    "\n",
    "clean_data[\"sz_bot\"].describe(), clean_data[\"sz_top\"].describe()"
   ]
  },
  {
   "cell_type": "code",
   "execution_count": 12,
   "metadata": {
    "collapsed": false
   },
   "outputs": [
    {
     "data": {
      "image/png": "[encoded data removed]",
      "text/plain": [
       "<Figure size 432x288 with 1 Axes>"
      ]
     },
     "metadata": {},
     "output_type": "display_data"
    }
   ],
   "source": [
    "# Create figure and axes\n",
    "fig, ax = plt.subplots()\n",
    "\n",
    "ax.scatter(x=clean_data[\"px\"], y=clean_data[\"pz\"], c='DarkBlue', s=0.1)\n",
    "\n",
    "# Add labels and title\n",
    "plt.xlabel('px (feet)')\n",
    "plt.ylabel('py (feet)')\n",
    "#plt.xlim(-80,125)\n",
    "#plt.ylim(0,250)\n",
    "plt.title('2011 MLB Data - home plate center')\n",
    "\n",
    "\n",
    "# width of the strike zone (same as home plate, 17 in) in feet from inches\n",
    "width = 17.0/12.0\n",
    "\n",
    "# Create a rectangle for the strike zone\n",
    "rect = patches.Rectangle((-1.0*width/2.0, 1.60), width, 3.40-1.60, linewidth=2, edgecolor='r', facecolor='none')\n",
    "\n",
    "# Add the patch to the axes\n",
    "ax.add_patch(rect)\n",
    "\n",
    "# Show the plot\n",
    "plt.show()"
   ]
  },
  {
   "cell_type": "markdown",
   "metadata": {},
   "source": [
    "## Analysis Approach for Pitch Type \n",
    "\n",
    "`12 pitch types will be classified based on the descriptions given in the MLB source below. The other 6 pitch types \n",
    "in the data (PO, UN, AB, FA, IN, FT) are not specified by that source, but can be added when the abbreviations for \n",
    "the pitch type are confirmed.`\n",
    "\n",
    "- Changeup (CH), Curveball (CU), Cutter (FC), Eephus (EP), Forkball (FO), Four-Seam Fastball (FF), Knuckleball (KN), Knuckle-curve (KC), Screwball (SC), Sinker (SI), Slider (SL), Splitter (FS) \n",
    "\n",
    "`With limited information on the source of the type confidence value and how it can be used, it is assumed that values\n",
    "close to zero are less probable. The data is selected for values greater than 0.1. This can be changed after finding\n",
    "more information about the source of the type confidence value.`\n",
    "\n",
    "Sources: <br> \n",
    "    \n",
    "https://www.mlb.com/glossary/pitch-types\n",
    "    \n",
    "https://patents.google.com/patent/US8876638B2/en"
   ]
  },
  {
   "cell_type": "code",
   "execution_count": 13,
   "metadata": {
    "collapsed": false
   },
   "outputs": [
    {
     "data": {
      "text/plain": [
       "array(['FF', 'SL', 'CU', 'SI', 'FC', 'FT', 'KC', 'CH', 'IN', 'KN', 'FS',\n",
       "       'FA', 'PO', 'FO', 'EP', 'UN', 'SC', 'AB'], dtype=object)"
      ]
     },
     "execution_count": 13,
     "metadata": {},
     "output_type": "execute_result"
    }
   ],
   "source": [
    "clean_data['pitch_type'].unique()"
   ]
  },
  {
   "cell_type": "code",
   "execution_count": 14,
   "metadata": {
    "collapsed": false
   },
   "outputs": [
    {
     "data": {
      "text/plain": [
       "FF    238541\n",
       "SL    109756\n",
       "SI     87740\n",
       "FT     81056\n",
       "CH     72641\n",
       "CU     56379\n",
       "FC     41702\n",
       "FS     10503\n",
       "KC      8490\n",
       "KN      4450\n",
       "IN      4058\n",
       "PO       559\n",
       "FO       329\n",
       "FA       204\n",
       "EP       134\n",
       "SC       120\n",
       "UN        17\n",
       "AB         2\n",
       "Name: pitch_type, dtype: int64"
      ]
     },
     "execution_count": 14,
     "metadata": {},
     "output_type": "execute_result"
    }
   ],
   "source": [
    "# counts of each pitch type in the data\n",
    "\n",
    "clean_data['pitch_type'].value_counts()"
   ]
  },
  {
   "cell_type": "code",
   "execution_count": 15,
   "metadata": {
    "collapsed": false
   },
   "outputs": [
    {
     "data": {
      "text/plain": [
       "count    716681.000000\n",
       "mean          1.404510\n",
       "std           0.660533\n",
       "min           0.000000\n",
       "25%           0.901000\n",
       "50%           2.000000\n",
       "75%           2.000000\n",
       "max           2.000000\n",
       "Name: type_confidence, dtype: float64"
      ]
     },
     "execution_count": 15,
     "metadata": {},
     "output_type": "execute_result"
    }
   ],
   "source": [
    "clean_data['type_confidence'].describe()"
   ]
  },
  {
   "cell_type": "code",
   "execution_count": 16,
   "metadata": {
    "collapsed": false
   },
   "outputs": [
    {
     "data": {
      "text/plain": [
       "(667561, 76)"
      ]
     },
     "execution_count": 16,
     "metadata": {},
     "output_type": "execute_result"
    }
   ],
   "source": [
    "# select rows where type_confidence > 0.1\n",
    "\n",
    "t_data = clean_data.loc[clean_data[\"type_confidence\"] > 0.1]\n",
    "\n",
    "t_data.shape"
   ]
  },
  {
   "cell_type": "markdown",
   "metadata": {
    "collapsed": true
   },
   "source": [
    "## Selected features in the training data\n",
    "- The features known prior to the pitch are selected. If we are given the information below, the next chosen pitch will be predicted. <br> <br>\n",
    "    - Teams: team_id_b, team_id_p \n",
    "    - In Game Information: inning, top, at_bat_num, pcount_at_bat, balls, strikes, fouls, outs, away_team_runs, home_team_runs    \n",
    "    - Batter Information: batter_id, stand, b_height\n",
    "    - Pitcher Information: pcount_pitcher, pitcher_id, p_throws"
   ]
  },
  {
   "cell_type": "code",
   "execution_count": 17,
   "metadata": {
    "collapsed": false
   },
   "outputs": [
    {
     "data": {
      "text/plain": [
       "(667561, 19)"
      ]
     },
     "execution_count": 17,
     "metadata": {},
     "output_type": "execute_result"
    }
   ],
   "source": [
    "# keep the columns with the selected features\n",
    "\n",
    "t_data = t_data[['team_id_b', 'team_id_p', 'inning', 'top', 'at_bat_num', 'pcount_at_bat', 'pcount_pitcher', 'balls', 'strikes', 'fouls', 'outs', 'batter_id', 'stand', 'b_height', 'pitcher_id', 'p_throws', 'away_team_runs', 'home_team_runs', 'pitch_type']]\n",
    "\n",
    "t_data.columns\n",
    "\n",
    "t_data.shape"
   ]
  },
  {
   "cell_type": "code",
   "execution_count": 18,
   "metadata": {
    "collapsed": false
   },
   "outputs": [
    {
     "name": "stdout",
     "output_type": "stream",
     "text": [
      "        team_id_b  team_id_p  inning  top  at_bat_num  pcount_at_bat  \\\n",
      "26            118        108       1    0           7              1   \n",
      "27            118        108       1    0           7              2   \n",
      "28            118        108       1    0           7              3   \n",
      "29            118        108       1    0           7              4   \n",
      "30            118        108       1    0           7              5   \n",
      "31            118        108       1    0           7              6   \n",
      "32            118        108       1    0           7              7   \n",
      "33            118        108       1    0           7              8   \n",
      "34            118        108       1    0           7              9   \n",
      "35            118        108       1    0           8              1   \n",
      "36            118        108       1    0           8              2   \n",
      "37            118        108       1    0           8              3   \n",
      "38            118        108       1    0           8              4   \n",
      "39            118        108       1    0           9              1   \n",
      "40            108        118       2    1          10              1   \n",
      "41            108        118       2    1          10              2   \n",
      "42            108        118       2    1          10              3   \n",
      "43            108        118       2    1          10              4   \n",
      "44            108        118       2    1          10              5   \n",
      "45            108        118       2    1          11              1   \n",
      "46            108        118       2    1          11              2   \n",
      "47            108        118       2    1          11              3   \n",
      "48            108        118       2    1          11              4   \n",
      "49            108        118       2    1          12              1   \n",
      "50            108        118       2    1          12              2   \n",
      "51            108        118       2    1          12              3   \n",
      "52            118        108       2    0          13              1   \n",
      "53            118        108       2    0          13              2   \n",
      "54            118        108       2    0          14              1   \n",
      "55            118        108       2    0          14              2   \n",
      "...           ...        ...     ...  ...         ...            ...   \n",
      "718931        140        138       8    1          66              2   \n",
      "718932        140        138       8    1          66              3   \n",
      "718933        140        138       8    1          66              4   \n",
      "718934        140        138       8    1          67              1   \n",
      "718935        140        138       8    1          67              2   \n",
      "718936        140        138       8    1          67              3   \n",
      "718937        138        140       8    0          68              1   \n",
      "718938        138        140       8    0          68              2   \n",
      "718939        138        140       8    0          68              3   \n",
      "718940        138        140       8    0          68              4   \n",
      "718941        138        140       8    0          69              1   \n",
      "718942        138        140       8    0          69              2   \n",
      "718943        138        140       8    0          69              3   \n",
      "718944        138        140       8    0          70              1   \n",
      "718945        138        140       8    0          70              2   \n",
      "718946        138        140       8    0          70              3   \n",
      "718947        138        140       8    0          70              4   \n",
      "718948        138        140       8    0          70              5   \n",
      "718949        138        140       8    0          70              6   \n",
      "718950        140        138       9    1          71              1   \n",
      "718951        140        138       9    1          71              2   \n",
      "718952        140        138       9    1          71              3   \n",
      "718953        140        138       9    1          71              4   \n",
      "718954        140        138       9    1          72              1   \n",
      "718955        140        138       9    1          72              2   \n",
      "718956        140        138       9    1          72              3   \n",
      "718957        140        138       9    1          72              4   \n",
      "718958        140        138       9    1          72              5   \n",
      "718959        140        138       9    1          73              1   \n",
      "718960        140        138       9    1          73              2   \n",
      "\n",
      "        pcount_pitcher  balls  strikes  fouls  outs  batter_id stand b_height  \\\n",
      "26                   1      0        0      0     0     449107     R     5-10   \n",
      "27                   2      0        1      0     0     449107     R     5-10   \n",
      "28                   3      1        1      0     0     449107     R     5-10   \n",
      "29                   4      2        1      0     0     449107     R     5-10   \n",
      "30                   5      2        2      1     0     449107     R     5-10   \n",
      "31                   6      2        2      2     0     449107     R     5-10   \n",
      "32                   7      3        2      2     0     449107     R     5-10   \n",
      "33                   8      3        2      3     0     449107     R     5-10   \n",
      "34                   9      3        2      4     0     449107     R     5-10   \n",
      "35                  10      0        0      0     1     466320     L     5-10   \n",
      "36                  11      0        1      1     1     466320     L     5-10   \n",
      "37                  12      1        1      1     1     466320     L     5-10   \n",
      "38                  13      1        2      2     1     466320     L     5-10   \n",
      "39                  14      0        0      0     2     460086     L      6-1   \n",
      "40                  27      0        0      0     0     444432     R      6-4   \n",
      "41                  28      0        1      0     0     444432     R      6-4   \n",
      "42                  29      0        2      1     0     444432     R      6-4   \n",
      "43                  30      0        2      2     0     444432     R      6-4   \n",
      "44                  31      1        2      2     0     444432     R      6-4   \n",
      "45                  32      0        0      0     1     425772     R      6-0   \n",
      "46                  33      0        1      0     1     425772     R      6-0   \n",
      "47                  34      1        1      0     1     425772     R      6-0   \n",
      "48                  35      1        2      0     1     425772     R      6-0   \n",
      "49                  36      0        0      0     2     488721     R      6-1   \n",
      "50                  37      1        0      0     2     488721     R      6-1   \n",
      "51                  38      1        1      0     2     488721     R      6-1   \n",
      "52                  15      0        0      0     0     456714     R      6-1   \n",
      "53                  16      0        1      0     0     456714     R      6-1   \n",
      "54                  17      0        0      0     1     451500     L      6-4   \n",
      "55                  18      1        0      0     1     451500     L      6-4   \n",
      "...                ...    ...      ...    ...   ...        ...   ...      ...   \n",
      "718931               6      1        0      0     1     276545     R      6-1   \n",
      "718932               7      1        1      0     1     276545     R      6-1   \n",
      "718933               8      2        1      0     1     276545     R      6-1   \n",
      "718934               9      0        0      0     2     134181     R     5-11   \n",
      "718935              10      0        1      0     2     134181     R     5-11   \n",
      "718936              11      0        2      1     2     134181     R     5-11   \n",
      "718937               4      0        0      0     0     346857     R      5-9   \n",
      "718938               5      1        0      0     0     346857     R      5-9   \n",
      "718939               6      2        0      0     0     346857     R      5-9   \n",
      "718940               7      2        1      0     0     346857     R      5-9   \n",
      "718941               8      0        0      0     1     444135     R     5-11   \n",
      "718942               9      0        1      0     1     444135     R     5-11   \n",
      "718943              10      0        2      0     1     444135     R     5-11   \n",
      "718944               1      0        0      0     2     501800     R      6-2   \n",
      "718945               2      0        1      0     2     501800     R      6-2   \n",
      "718946               3      1        1      0     2     501800     R      6-2   \n",
      "718947               4      2        1      0     2     501800     R      6-2   \n",
      "718948               5      2        2      0     2     501800     R      6-2   \n",
      "718949               6      3        2      0     2     501800     R      6-2   \n",
      "718950               1      0        0      0     0     443558     R      6-2   \n",
      "718951               2      1        0      0     0     443558     R      6-2   \n",
      "718952               3      2        0      0     0     443558     R      6-2   \n",
      "718953               4      2        1      0     0     443558     R      6-2   \n",
      "718954               5      0        0      0     1     435063     R      6-0   \n",
      "718955               6      0        1      0     1     435063     R      6-0   \n",
      "718956               7      1        1      0     1     435063     R      6-0   \n",
      "718957               8      1        2      1     1     435063     R      6-0   \n",
      "718958               9      2        2      1     1     435063     R      6-0   \n",
      "718959              10      0        0      0     2     461815     L      6-3   \n",
      "718960              11      0        1      0     2     461815     L      6-3   \n",
      "\n",
      "        pitcher_id p_throws  away_team_runs  home_team_runs pitch_type  \n",
      "26          450308        R               0               0         FF  \n",
      "27          450308        R               0               0         FF  \n",
      "28          450308        R               0               0         FF  \n",
      "29          450308        R               0               0         FF  \n",
      "30          450308        R               0               0         FF  \n",
      "31          450308        R               0               0         SL  \n",
      "32          450308        R               0               0         FF  \n",
      "33          450308        R               0               0         FF  \n",
      "34          450308        R               0               0         SL  \n",
      "35          450308        R               0               0         FF  \n",
      "36          450308        R               0               0         CU  \n",
      "37          450308        R               0               0         CU  \n",
      "38          450308        R               0               0         SL  \n",
      "39          450308        R               0               0         FF  \n",
      "40          460024        R               0               0         FF  \n",
      "41          460024        R               0               0         SL  \n",
      "42          460024        R               0               0         FF  \n",
      "43          460024        R               0               0         SL  \n",
      "44          460024        R               0               0         FF  \n",
      "45          460024        R               0               0         SL  \n",
      "46          460024        R               0               0         FF  \n",
      "47          460024        R               0               0         FF  \n",
      "48          460024        R               0               0         SI  \n",
      "49          460024        R               0               0         FF  \n",
      "50          460024        R               0               0         FC  \n",
      "51          460024        R               0               0         SL  \n",
      "52          450308        R               0               0         FF  \n",
      "53          450308        R               0               0         FF  \n",
      "54          450308        R               0               0         FF  \n",
      "55          450308        R               0               0         FT  \n",
      "...            ...      ...             ...             ...        ...  \n",
      "718931      458681        R               2               6         FT  \n",
      "718932      458681        R               2               6         CU  \n",
      "718933      458681        R               2               6         FT  \n",
      "718934      458681        R               2               6         FT  \n",
      "718935      458681        R               2               6         FF  \n",
      "718936      458681        R               2               6         FF  \n",
      "718937      283166        L               2               6         FF  \n",
      "718938      283166        L               2               6         FF  \n",
      "718939      283166        L               2               6         FF  \n",
      "718940      283166        L               2               6         FF  \n",
      "718941      283166        L               2               6         SL  \n",
      "718942      283166        L               2               6         SL  \n",
      "718943      283166        L               2               6         FF  \n",
      "718944      468396        R               2               6         SL  \n",
      "718945      468396        R               2               6         FF  \n",
      "718946      468396        R               2               6         FF  \n",
      "718947      468396        R               2               6         SL  \n",
      "718948      468396        R               2               6         SL  \n",
      "718949      468396        R               2               6         CH  \n",
      "718950      435400        R               2               6         FF  \n",
      "718951      435400        R               2               6         FF  \n",
      "718952      435400        R               2               6         FF  \n",
      "718953      435400        R               2               6         FF  \n",
      "718954      435400        R               2               6         FF  \n",
      "718955      435400        R               2               6         FF  \n",
      "718956      435400        R               2               6         FF  \n",
      "718957      435400        R               2               6         FC  \n",
      "718958      435400        R               2               6         FF  \n",
      "718959      435400        R               2               6         FT  \n",
      "718960      435400        R               2               6         FF  \n",
      "\n",
      "[667561 rows x 19 columns]\n"
     ]
    }
   ],
   "source": [
    "print(t_data)"
   ]
  },
  {
   "cell_type": "markdown",
   "metadata": {},
   "source": [
    "## Prepare the training data set"
   ]
  },
  {
   "cell_type": "code",
   "execution_count": 19,
   "metadata": {
    "collapsed": false
   },
   "outputs": [
    {
     "name": "stdout",
     "output_type": "stream",
     "text": [
      "(667561, 19)\n"
     ]
    }
   ],
   "source": [
    "# convert the batter height to inches\n",
    "\n",
    "def convert_height(x):\n",
    "        feet = re.findall('^[0-9]', x)[0]\n",
    "        inches = re.findall('.[0-9]$', x)[0]\n",
    "        return 12*int(feet) + abs(int(inches)) \n",
    "    \n",
    "t_data['b_height_inches'] = t_data['b_height'].apply(convert_height)\n",
    "\n",
    "t_data.drop('b_height', axis=1, inplace=True)\n",
    "\n",
    "print(t_data.shape)"
   ]
  },
  {
   "cell_type": "code",
   "execution_count": 20,
   "metadata": {
    "collapsed": false
   },
   "outputs": [
    {
     "name": "stdout",
     "output_type": "stream",
     "text": [
      "(667561, 19)\n"
     ]
    }
   ],
   "source": [
    "# change the left hand (L) and right hand (R) labels to integers for the model trainer\n",
    "# L = 0, R = 1\n",
    "    \n",
    "def hand_to_int(x):\n",
    "    if x == 'L':\n",
    "        return 0\n",
    "    else:\n",
    "        return 1\n",
    "\n",
    "t_data['stand'] = t_data['stand'].apply(hand_to_int)\n",
    "\n",
    "t_data['p_throws'] = t_data['p_throws'].apply(hand_to_int)\n",
    "\n",
    "print(t_data.shape)"
   ]
  },
  {
   "cell_type": "code",
   "execution_count": 21,
   "metadata": {
    "collapsed": false
   },
   "outputs": [
    {
     "name": "stdout",
     "output_type": "stream",
     "text": [
      "        team_id_b  team_id_p  inning  top  at_bat_num  pcount_at_bat  \\\n",
      "26            118        108       1    0           7              1   \n",
      "27            118        108       1    0           7              2   \n",
      "28            118        108       1    0           7              3   \n",
      "29            118        108       1    0           7              4   \n",
      "30            118        108       1    0           7              5   \n",
      "31            118        108       1    0           7              6   \n",
      "32            118        108       1    0           7              7   \n",
      "33            118        108       1    0           7              8   \n",
      "34            118        108       1    0           7              9   \n",
      "35            118        108       1    0           8              1   \n",
      "36            118        108       1    0           8              2   \n",
      "37            118        108       1    0           8              3   \n",
      "38            118        108       1    0           8              4   \n",
      "39            118        108       1    0           9              1   \n",
      "40            108        118       2    1          10              1   \n",
      "41            108        118       2    1          10              2   \n",
      "42            108        118       2    1          10              3   \n",
      "43            108        118       2    1          10              4   \n",
      "44            108        118       2    1          10              5   \n",
      "45            108        118       2    1          11              1   \n",
      "46            108        118       2    1          11              2   \n",
      "47            108        118       2    1          11              3   \n",
      "48            108        118       2    1          11              4   \n",
      "49            108        118       2    1          12              1   \n",
      "50            108        118       2    1          12              2   \n",
      "51            108        118       2    1          12              3   \n",
      "52            118        108       2    0          13              1   \n",
      "53            118        108       2    0          13              2   \n",
      "54            118        108       2    0          14              1   \n",
      "55            118        108       2    0          14              2   \n",
      "...           ...        ...     ...  ...         ...            ...   \n",
      "718931        140        138       8    1          66              2   \n",
      "718932        140        138       8    1          66              3   \n",
      "718933        140        138       8    1          66              4   \n",
      "718934        140        138       8    1          67              1   \n",
      "718935        140        138       8    1          67              2   \n",
      "718936        140        138       8    1          67              3   \n",
      "718937        138        140       8    0          68              1   \n",
      "718938        138        140       8    0          68              2   \n",
      "718939        138        140       8    0          68              3   \n",
      "718940        138        140       8    0          68              4   \n",
      "718941        138        140       8    0          69              1   \n",
      "718942        138        140       8    0          69              2   \n",
      "718943        138        140       8    0          69              3   \n",
      "718944        138        140       8    0          70              1   \n",
      "718945        138        140       8    0          70              2   \n",
      "718946        138        140       8    0          70              3   \n",
      "718947        138        140       8    0          70              4   \n",
      "718948        138        140       8    0          70              5   \n",
      "718949        138        140       8    0          70              6   \n",
      "718950        140        138       9    1          71              1   \n",
      "718951        140        138       9    1          71              2   \n",
      "718952        140        138       9    1          71              3   \n",
      "718953        140        138       9    1          71              4   \n",
      "718954        140        138       9    1          72              1   \n",
      "718955        140        138       9    1          72              2   \n",
      "718956        140        138       9    1          72              3   \n",
      "718957        140        138       9    1          72              4   \n",
      "718958        140        138       9    1          72              5   \n",
      "718959        140        138       9    1          73              1   \n",
      "718960        140        138       9    1          73              2   \n",
      "\n",
      "        pcount_pitcher  balls  strikes  fouls  outs  batter_id  stand  \\\n",
      "26                   1      0        0      0     0     449107      1   \n",
      "27                   2      0        1      0     0     449107      1   \n",
      "28                   3      1        1      0     0     449107      1   \n",
      "29                   4      2        1      0     0     449107      1   \n",
      "30                   5      2        2      1     0     449107      1   \n",
      "31                   6      2        2      2     0     449107      1   \n",
      "32                   7      3        2      2     0     449107      1   \n",
      "33                   8      3        2      3     0     449107      1   \n",
      "34                   9      3        2      4     0     449107      1   \n",
      "35                  10      0        0      0     1     466320      0   \n",
      "36                  11      0        1      1     1     466320      0   \n",
      "37                  12      1        1      1     1     466320      0   \n",
      "38                  13      1        2      2     1     466320      0   \n",
      "39                  14      0        0      0     2     460086      0   \n",
      "40                  27      0        0      0     0     444432      1   \n",
      "41                  28      0        1      0     0     444432      1   \n",
      "42                  29      0        2      1     0     444432      1   \n",
      "43                  30      0        2      2     0     444432      1   \n",
      "44                  31      1        2      2     0     444432      1   \n",
      "45                  32      0        0      0     1     425772      1   \n",
      "46                  33      0        1      0     1     425772      1   \n",
      "47                  34      1        1      0     1     425772      1   \n",
      "48                  35      1        2      0     1     425772      1   \n",
      "49                  36      0        0      0     2     488721      1   \n",
      "50                  37      1        0      0     2     488721      1   \n",
      "51                  38      1        1      0     2     488721      1   \n",
      "52                  15      0        0      0     0     456714      1   \n",
      "53                  16      0        1      0     0     456714      1   \n",
      "54                  17      0        0      0     1     451500      0   \n",
      "55                  18      1        0      0     1     451500      0   \n",
      "...                ...    ...      ...    ...   ...        ...    ...   \n",
      "718931               6      1        0      0     1     276545      1   \n",
      "718932               7      1        1      0     1     276545      1   \n",
      "718933               8      2        1      0     1     276545      1   \n",
      "718934               9      0        0      0     2     134181      1   \n",
      "718935              10      0        1      0     2     134181      1   \n",
      "718936              11      0        2      1     2     134181      1   \n",
      "718937               4      0        0      0     0     346857      1   \n",
      "718938               5      1        0      0     0     346857      1   \n",
      "718939               6      2        0      0     0     346857      1   \n",
      "718940               7      2        1      0     0     346857      1   \n",
      "718941               8      0        0      0     1     444135      1   \n",
      "718942               9      0        1      0     1     444135      1   \n",
      "718943              10      0        2      0     1     444135      1   \n",
      "718944               1      0        0      0     2     501800      1   \n",
      "718945               2      0        1      0     2     501800      1   \n",
      "718946               3      1        1      0     2     501800      1   \n",
      "718947               4      2        1      0     2     501800      1   \n",
      "718948               5      2        2      0     2     501800      1   \n",
      "718949               6      3        2      0     2     501800      1   \n",
      "718950               1      0        0      0     0     443558      1   \n",
      "718951               2      1        0      0     0     443558      1   \n",
      "718952               3      2        0      0     0     443558      1   \n",
      "718953               4      2        1      0     0     443558      1   \n",
      "718954               5      0        0      0     1     435063      1   \n",
      "718955               6      0        1      0     1     435063      1   \n",
      "718956               7      1        1      0     1     435063      1   \n",
      "718957               8      1        2      1     1     435063      1   \n",
      "718958               9      2        2      1     1     435063      1   \n",
      "718959              10      0        0      0     2     461815      0   \n",
      "718960              11      0        1      0     2     461815      0   \n",
      "\n",
      "        pitcher_id  p_throws  away_team_runs  home_team_runs pitch_type  \\\n",
      "26          450308         1               0               0         FF   \n",
      "27          450308         1               0               0         FF   \n",
      "28          450308         1               0               0         FF   \n",
      "29          450308         1               0               0         FF   \n",
      "30          450308         1               0               0         FF   \n",
      "31          450308         1               0               0         SL   \n",
      "32          450308         1               0               0         FF   \n",
      "33          450308         1               0               0         FF   \n",
      "34          450308         1               0               0         SL   \n",
      "35          450308         1               0               0         FF   \n",
      "36          450308         1               0               0         CU   \n",
      "37          450308         1               0               0         CU   \n",
      "38          450308         1               0               0         SL   \n",
      "39          450308         1               0               0         FF   \n",
      "40          460024         1               0               0         FF   \n",
      "41          460024         1               0               0         SL   \n",
      "42          460024         1               0               0         FF   \n",
      "43          460024         1               0               0         SL   \n",
      "44          460024         1               0               0         FF   \n",
      "45          460024         1               0               0         SL   \n",
      "46          460024         1               0               0         FF   \n",
      "47          460024         1               0               0         FF   \n",
      "48          460024         1               0               0         SI   \n",
      "49          460024         1               0               0         FF   \n",
      "50          460024         1               0               0         FC   \n",
      "51          460024         1               0               0         SL   \n",
      "52          450308         1               0               0         FF   \n",
      "53          450308         1               0               0         FF   \n",
      "54          450308         1               0               0         FF   \n",
      "55          450308         1               0               0         FT   \n",
      "...            ...       ...             ...             ...        ...   \n",
      "718931      458681         1               2               6         FT   \n",
      "718932      458681         1               2               6         CU   \n",
      "718933      458681         1               2               6         FT   \n",
      "718934      458681         1               2               6         FT   \n",
      "718935      458681         1               2               6         FF   \n",
      "718936      458681         1               2               6         FF   \n",
      "718937      283166         0               2               6         FF   \n",
      "718938      283166         0               2               6         FF   \n",
      "718939      283166         0               2               6         FF   \n",
      "718940      283166         0               2               6         FF   \n",
      "718941      283166         0               2               6         SL   \n",
      "718942      283166         0               2               6         SL   \n",
      "718943      283166         0               2               6         FF   \n",
      "718944      468396         1               2               6         SL   \n",
      "718945      468396         1               2               6         FF   \n",
      "718946      468396         1               2               6         FF   \n",
      "718947      468396         1               2               6         SL   \n",
      "718948      468396         1               2               6         SL   \n",
      "718949      468396         1               2               6         CH   \n",
      "718950      435400         1               2               6         FF   \n",
      "718951      435400         1               2               6         FF   \n",
      "718952      435400         1               2               6         FF   \n",
      "718953      435400         1               2               6         FF   \n",
      "718954      435400         1               2               6         FF   \n",
      "718955      435400         1               2               6         FF   \n",
      "718956      435400         1               2               6         FF   \n",
      "718957      435400         1               2               6         FC   \n",
      "718958      435400         1               2               6         FF   \n",
      "718959      435400         1               2               6         FT   \n",
      "718960      435400         1               2               6         FF   \n",
      "\n",
      "        b_height_inches  \n",
      "26                   70  \n",
      "27                   70  \n",
      "28                   70  \n",
      "29                   70  \n",
      "30                   70  \n",
      "31                   70  \n",
      "32                   70  \n",
      "33                   70  \n",
      "34                   70  \n",
      "35                   70  \n",
      "36                   70  \n",
      "37                   70  \n",
      "38                   70  \n",
      "39                   73  \n",
      "40                   76  \n",
      "41                   76  \n",
      "42                   76  \n",
      "43                   76  \n",
      "44                   76  \n",
      "45                   72  \n",
      "46                   72  \n",
      "47                   72  \n",
      "48                   72  \n",
      "49                   73  \n",
      "50                   73  \n",
      "51                   73  \n",
      "52                   73  \n",
      "53                   73  \n",
      "54                   76  \n",
      "55                   76  \n",
      "...                 ...  \n",
      "718931               73  \n",
      "718932               73  \n",
      "718933               73  \n",
      "718934               71  \n",
      "718935               71  \n",
      "718936               71  \n",
      "718937               69  \n",
      "718938               69  \n",
      "718939               69  \n",
      "718940               69  \n",
      "718941               71  \n",
      "718942               71  \n",
      "718943               71  \n",
      "718944               74  \n",
      "718945               74  \n",
      "718946               74  \n",
      "718947               74  \n",
      "718948               74  \n",
      "718949               74  \n",
      "718950               74  \n",
      "718951               74  \n",
      "718952               74  \n",
      "718953               74  \n",
      "718954               72  \n",
      "718955               72  \n",
      "718956               72  \n",
      "718957               72  \n",
      "718958               72  \n",
      "718959               75  \n",
      "718960               75  \n",
      "\n",
      "[667561 rows x 19 columns]\n"
     ]
    }
   ],
   "source": [
    "print(t_data)"
   ]
  },
  {
   "cell_type": "code",
   "execution_count": 22,
   "metadata": {
    "collapsed": false
   },
   "outputs": [
    {
     "data": {
      "text/plain": [
       "FF    238540\n",
       "SL    109755\n",
       "FT     81056\n",
       "CH     72587\n",
       "CU     56379\n",
       "SI     43481\n",
       "FC     41702\n",
       "FS     10503\n",
       "KC      8490\n",
       "KN      4450\n",
       "FO       329\n",
       "EP       134\n",
       "SC       120\n",
       "FA        35\n",
       "Name: pitch_type, dtype: int64"
      ]
     },
     "execution_count": 22,
     "metadata": {},
     "output_type": "execute_result"
    }
   ],
   "source": [
    "# check the counts of each pitch type before mapping\n",
    "\n",
    "t_data['pitch_type'].value_counts()"
   ]
  },
  {
   "cell_type": "code",
   "execution_count": 23,
   "metadata": {
    "collapsed": false
   },
   "outputs": [
    {
     "data": {
      "text/plain": [
       "(586470, 19)"
      ]
     },
     "execution_count": 23,
     "metadata": {},
     "output_type": "execute_result"
    }
   ],
   "source": [
    "# remove the pitch types that are not used for this run\n",
    "\n",
    "t_data = t_data.drop( t_data[t_data['pitch_type'] == 'PO'].index )\n",
    "\n",
    "t_data = t_data.drop( t_data[t_data['pitch_type'] == 'UN'].index )\n",
    "\n",
    "t_data = t_data.drop( t_data[t_data['pitch_type'] == 'AB'].index )\n",
    "\n",
    "t_data = t_data.drop( t_data[t_data['pitch_type'] == 'FA'].index )\n",
    "\n",
    "t_data = t_data.drop( t_data[t_data['pitch_type'] == 'IN'].index )\n",
    "\n",
    "t_data = t_data.drop( t_data[t_data['pitch_type'] == 'FT'].index )\n",
    "\n",
    "t_data.shape"
   ]
  },
  {
   "cell_type": "code",
   "execution_count": 24,
   "metadata": {
    "collapsed": false
   },
   "outputs": [
    {
     "name": "stdout",
     "output_type": "stream",
     "text": [
      "(586470, 19)\n"
     ]
    }
   ],
   "source": [
    "# map the pitch types to integers for the model trainer\n",
    "# FF = 0, SL = 1, SI = 2, CH = 3, CU = 4, FC = 5, FS = 6, KC = 7, KN = 8, FO = 9, EP = 10, SC = 11\n",
    "    \n",
    "def pitch_type_to_int(x):\n",
    "    if x == 'FF':\n",
    "        return 0\n",
    "    elif x == 'SL':\n",
    "        return 1\n",
    "    elif x == 'SI':\n",
    "        return 2\n",
    "    elif x == 'CH':\n",
    "        return 3\n",
    "    elif x == 'CU':\n",
    "        return 4\n",
    "    elif x == 'FC':\n",
    "        return 5\n",
    "    elif x == 'FS':\n",
    "        return 6\n",
    "    elif x == 'KC':\n",
    "        return 7\n",
    "    elif x == 'KN':\n",
    "        return 8\n",
    "    elif x == 'FO':\n",
    "        return 9\n",
    "    elif x == 'EP':\n",
    "        return 10\n",
    "    else:\n",
    "        return 11\n",
    "\n",
    "t_data['pitch_type'] = t_data['pitch_type'].apply(pitch_type_to_int)\n",
    "\n",
    "print(t_data.shape)\n"
   ]
  },
  {
   "cell_type": "code",
   "execution_count": 25,
   "metadata": {
    "collapsed": false
   },
   "outputs": [
    {
     "data": {
      "text/plain": [
       "0     238540\n",
       "1     109755\n",
       "3      72587\n",
       "4      56379\n",
       "2      43481\n",
       "5      41702\n",
       "6      10503\n",
       "7       8490\n",
       "8       4450\n",
       "9        329\n",
       "10       134\n",
       "11       120\n",
       "Name: pitch_type, dtype: int64"
      ]
     },
     "execution_count": 25,
     "metadata": {},
     "output_type": "execute_result"
    }
   ],
   "source": [
    "# check the counts of each pitch type after the mapping\n",
    "\n",
    "t_data['pitch_type'].value_counts()"
   ]
  },
  {
   "cell_type": "code",
   "execution_count": 26,
   "metadata": {
    "collapsed": false
   },
   "outputs": [
    {
     "name": "stdout",
     "output_type": "stream",
     "text": [
      "        team_id_b  team_id_p  inning  top  at_bat_num  pcount_at_bat  \\\n",
      "26            118        108       1    0           7              1   \n",
      "27            118        108       1    0           7              2   \n",
      "28            118        108       1    0           7              3   \n",
      "29            118        108       1    0           7              4   \n",
      "30            118        108       1    0           7              5   \n",
      "31            118        108       1    0           7              6   \n",
      "32            118        108       1    0           7              7   \n",
      "33            118        108       1    0           7              8   \n",
      "34            118        108       1    0           7              9   \n",
      "35            118        108       1    0           8              1   \n",
      "36            118        108       1    0           8              2   \n",
      "37            118        108       1    0           8              3   \n",
      "38            118        108       1    0           8              4   \n",
      "39            118        108       1    0           9              1   \n",
      "40            108        118       2    1          10              1   \n",
      "41            108        118       2    1          10              2   \n",
      "42            108        118       2    1          10              3   \n",
      "43            108        118       2    1          10              4   \n",
      "44            108        118       2    1          10              5   \n",
      "45            108        118       2    1          11              1   \n",
      "46            108        118       2    1          11              2   \n",
      "47            108        118       2    1          11              3   \n",
      "48            108        118       2    1          11              4   \n",
      "49            108        118       2    1          12              1   \n",
      "50            108        118       2    1          12              2   \n",
      "51            108        118       2    1          12              3   \n",
      "52            118        108       2    0          13              1   \n",
      "53            118        108       2    0          13              2   \n",
      "54            118        108       2    0          14              1   \n",
      "59            118        108       2    0          14              6   \n",
      "...           ...        ...     ...  ...         ...            ...   \n",
      "718925        138        140       7    0          64              3   \n",
      "718926        140        138       8    1          65              1   \n",
      "718929        140        138       8    1          65              4   \n",
      "718930        140        138       8    1          66              1   \n",
      "718932        140        138       8    1          66              3   \n",
      "718935        140        138       8    1          67              2   \n",
      "718936        140        138       8    1          67              3   \n",
      "718937        138        140       8    0          68              1   \n",
      "718938        138        140       8    0          68              2   \n",
      "718939        138        140       8    0          68              3   \n",
      "718940        138        140       8    0          68              4   \n",
      "718941        138        140       8    0          69              1   \n",
      "718942        138        140       8    0          69              2   \n",
      "718943        138        140       8    0          69              3   \n",
      "718944        138        140       8    0          70              1   \n",
      "718945        138        140       8    0          70              2   \n",
      "718946        138        140       8    0          70              3   \n",
      "718947        138        140       8    0          70              4   \n",
      "718948        138        140       8    0          70              5   \n",
      "718949        138        140       8    0          70              6   \n",
      "718950        140        138       9    1          71              1   \n",
      "718951        140        138       9    1          71              2   \n",
      "718952        140        138       9    1          71              3   \n",
      "718953        140        138       9    1          71              4   \n",
      "718954        140        138       9    1          72              1   \n",
      "718955        140        138       9    1          72              2   \n",
      "718956        140        138       9    1          72              3   \n",
      "718957        140        138       9    1          72              4   \n",
      "718958        140        138       9    1          72              5   \n",
      "718960        140        138       9    1          73              2   \n",
      "\n",
      "        pcount_pitcher  balls  strikes  fouls  outs  batter_id  stand  \\\n",
      "26                   1      0        0      0     0     449107      1   \n",
      "27                   2      0        1      0     0     449107      1   \n",
      "28                   3      1        1      0     0     449107      1   \n",
      "29                   4      2        1      0     0     449107      1   \n",
      "30                   5      2        2      1     0     449107      1   \n",
      "31                   6      2        2      2     0     449107      1   \n",
      "32                   7      3        2      2     0     449107      1   \n",
      "33                   8      3        2      3     0     449107      1   \n",
      "34                   9      3        2      4     0     449107      1   \n",
      "35                  10      0        0      0     1     466320      0   \n",
      "36                  11      0        1      1     1     466320      0   \n",
      "37                  12      1        1      1     1     466320      0   \n",
      "38                  13      1        2      2     1     466320      0   \n",
      "39                  14      0        0      0     2     460086      0   \n",
      "40                  27      0        0      0     0     444432      1   \n",
      "41                  28      0        1      0     0     444432      1   \n",
      "42                  29      0        2      1     0     444432      1   \n",
      "43                  30      0        2      2     0     444432      1   \n",
      "44                  31      1        2      2     0     444432      1   \n",
      "45                  32      0        0      0     1     425772      1   \n",
      "46                  33      0        1      0     1     425772      1   \n",
      "47                  34      1        1      0     1     425772      1   \n",
      "48                  35      1        2      0     1     425772      1   \n",
      "49                  36      0        0      0     2     488721      1   \n",
      "50                  37      1        0      0     2     488721      1   \n",
      "51                  38      1        1      0     2     488721      1   \n",
      "52                  15      0        0      0     0     456714      1   \n",
      "53                  16      0        1      0     0     456714      1   \n",
      "54                  17      0        0      0     1     451500      0   \n",
      "59                  22      3        2      0     1     451500      0   \n",
      "...                ...    ...      ...    ...   ...        ...    ...   \n",
      "718925               3      0        2      0     2     435401      0   \n",
      "718926               1      0        0      0     0     285078      0   \n",
      "718929               4      1        2      0     0     285078      0   \n",
      "718930               5      0        0      0     1     276545      1   \n",
      "718932               7      1        1      0     1     276545      1   \n",
      "718935              10      0        1      0     2     134181      1   \n",
      "718936              11      0        2      1     2     134181      1   \n",
      "718937               4      0        0      0     0     346857      1   \n",
      "718938               5      1        0      0     0     346857      1   \n",
      "718939               6      2        0      0     0     346857      1   \n",
      "718940               7      2        1      0     0     346857      1   \n",
      "718941               8      0        0      0     1     444135      1   \n",
      "718942               9      0        1      0     1     444135      1   \n",
      "718943              10      0        2      0     1     444135      1   \n",
      "718944               1      0        0      0     2     501800      1   \n",
      "718945               2      0        1      0     2     501800      1   \n",
      "718946               3      1        1      0     2     501800      1   \n",
      "718947               4      2        1      0     2     501800      1   \n",
      "718948               5      2        2      0     2     501800      1   \n",
      "718949               6      3        2      0     2     501800      1   \n",
      "718950               1      0        0      0     0     443558      1   \n",
      "718951               2      1        0      0     0     443558      1   \n",
      "718952               3      2        0      0     0     443558      1   \n",
      "718953               4      2        1      0     0     443558      1   \n",
      "718954               5      0        0      0     1     435063      1   \n",
      "718955               6      0        1      0     1     435063      1   \n",
      "718956               7      1        1      0     1     435063      1   \n",
      "718957               8      1        2      1     1     435063      1   \n",
      "718958               9      2        2      1     1     435063      1   \n",
      "718960              11      0        1      0     2     461815      0   \n",
      "\n",
      "        pitcher_id  p_throws  away_team_runs  home_team_runs  pitch_type  \\\n",
      "26          450308         1               0               0           0   \n",
      "27          450308         1               0               0           0   \n",
      "28          450308         1               0               0           0   \n",
      "29          450308         1               0               0           0   \n",
      "30          450308         1               0               0           0   \n",
      "31          450308         1               0               0           1   \n",
      "32          450308         1               0               0           0   \n",
      "33          450308         1               0               0           0   \n",
      "34          450308         1               0               0           1   \n",
      "35          450308         1               0               0           0   \n",
      "36          450308         1               0               0           4   \n",
      "37          450308         1               0               0           4   \n",
      "38          450308         1               0               0           1   \n",
      "39          450308         1               0               0           0   \n",
      "40          460024         1               0               0           0   \n",
      "41          460024         1               0               0           1   \n",
      "42          460024         1               0               0           0   \n",
      "43          460024         1               0               0           1   \n",
      "44          460024         1               0               0           0   \n",
      "45          460024         1               0               0           1   \n",
      "46          460024         1               0               0           0   \n",
      "47          460024         1               0               0           0   \n",
      "48          460024         1               0               0           2   \n",
      "49          460024         1               0               0           0   \n",
      "50          460024         1               0               0           5   \n",
      "51          460024         1               0               0           1   \n",
      "52          450308         1               0               0           0   \n",
      "53          450308         1               0               0           0   \n",
      "54          450308         1               0               0           0   \n",
      "59          450308         1               0               0           0   \n",
      "...            ...       ...             ...             ...         ...   \n",
      "718925      283166         0               2               6           0   \n",
      "718926      458681         1               2               6           0   \n",
      "718929      458681         1               2               6           0   \n",
      "718930      458681         1               2               6           0   \n",
      "718932      458681         1               2               6           4   \n",
      "718935      458681         1               2               6           0   \n",
      "718936      458681         1               2               6           0   \n",
      "718937      283166         0               2               6           0   \n",
      "718938      283166         0               2               6           0   \n",
      "718939      283166         0               2               6           0   \n",
      "718940      283166         0               2               6           0   \n",
      "718941      283166         0               2               6           1   \n",
      "718942      283166         0               2               6           1   \n",
      "718943      283166         0               2               6           0   \n",
      "718944      468396         1               2               6           1   \n",
      "718945      468396         1               2               6           0   \n",
      "718946      468396         1               2               6           0   \n",
      "718947      468396         1               2               6           1   \n",
      "718948      468396         1               2               6           1   \n",
      "718949      468396         1               2               6           3   \n",
      "718950      435400         1               2               6           0   \n",
      "718951      435400         1               2               6           0   \n",
      "718952      435400         1               2               6           0   \n",
      "718953      435400         1               2               6           0   \n",
      "718954      435400         1               2               6           0   \n",
      "718955      435400         1               2               6           0   \n",
      "718956      435400         1               2               6           0   \n",
      "718957      435400         1               2               6           5   \n",
      "718958      435400         1               2               6           0   \n",
      "718960      435400         1               2               6           0   \n",
      "\n",
      "        b_height_inches  \n",
      "26                   70  \n",
      "27                   70  \n",
      "28                   70  \n",
      "29                   70  \n",
      "30                   70  \n",
      "31                   70  \n",
      "32                   70  \n",
      "33                   70  \n",
      "34                   70  \n",
      "35                   70  \n",
      "36                   70  \n",
      "37                   70  \n",
      "38                   70  \n",
      "39                   73  \n",
      "40                   76  \n",
      "41                   76  \n",
      "42                   76  \n",
      "43                   76  \n",
      "44                   76  \n",
      "45                   72  \n",
      "46                   72  \n",
      "47                   72  \n",
      "48                   72  \n",
      "49                   73  \n",
      "50                   73  \n",
      "51                   73  \n",
      "52                   73  \n",
      "53                   73  \n",
      "54                   76  \n",
      "59                   76  \n",
      "...                 ...  \n",
      "718925               70  \n",
      "718926               76  \n",
      "718929               76  \n",
      "718930               73  \n",
      "718932               73  \n",
      "718935               71  \n",
      "718936               71  \n",
      "718937               69  \n",
      "718938               69  \n",
      "718939               69  \n",
      "718940               69  \n",
      "718941               71  \n",
      "718942               71  \n",
      "718943               71  \n",
      "718944               74  \n",
      "718945               74  \n",
      "718946               74  \n",
      "718947               74  \n",
      "718948               74  \n",
      "718949               74  \n",
      "718950               74  \n",
      "718951               74  \n",
      "718952               74  \n",
      "718953               74  \n",
      "718954               72  \n",
      "718955               72  \n",
      "718956               72  \n",
      "718957               72  \n",
      "718958               72  \n",
      "718960               75  \n",
      "\n",
      "[586470 rows x 19 columns]\n"
     ]
    }
   ],
   "source": [
    "print(t_data)"
   ]
  },
  {
   "cell_type": "code",
   "execution_count": 27,
   "metadata": {
    "collapsed": false
   },
   "outputs": [
    {
     "name": "stdout",
     "output_type": "stream",
     "text": [
      "Index([], dtype='object')\n",
      "(0,)\n"
     ]
    }
   ],
   "source": [
    "# Check is there's any column with nan\n",
    "\n",
    "print(t_data.columns[t_data.isna().any()])\n",
    "\n",
    "print(t_data.columns[t_data.isna().any()].shape)"
   ]
  },
  {
   "cell_type": "markdown",
   "metadata": {},
   "source": [
    "## Train the model with a classifier"
   ]
  },
  {
   "cell_type": "code",
   "execution_count": 28,
   "metadata": {
    "collapsed": false
   },
   "outputs": [
    {
     "name": "stdout",
     "output_type": "stream",
     "text": [
      "((586470, 18), (586470,))\n"
     ]
    }
   ],
   "source": [
    "from sklearn.model_selection import train_test_split\n",
    "\n",
    "# Separate target variable\n",
    "X = t_data.drop('pitch_type', axis=1)\n",
    "y = t_data['pitch_type'] \n",
    "\n",
    "# Split the data into training and test sets\n",
    "X_train, X_test, y_train, y_test = train_test_split(X, y, test_size=0.2, random_state=42)\n",
    "\n",
    "print(X.shape, y.shape)"
   ]
  },
  {
   "cell_type": "code",
   "execution_count": 29,
   "metadata": {
    "collapsed": false
   },
   "outputs": [
    {
     "data": {
      "text/plain": [
       "XGBClassifier(base_score=0.5, booster='gbtree', colsample_bylevel=1,\n",
       "       colsample_bytree=1, gamma=0, learning_rate=0.1, max_delta_step=0,\n",
       "       max_depth=3, min_child_weight=1, missing=None, n_estimators=100,\n",
       "       n_jobs=1, nthread=None, objective='multi:softprob', random_state=0,\n",
       "       reg_alpha=0, reg_lambda=1, scale_pos_weight=1, seed=None,\n",
       "       silent=True, subsample=1)"
      ]
     },
     "execution_count": 29,
     "metadata": {},
     "output_type": "execute_result"
    }
   ],
   "source": [
    "from xgboost import XGBClassifier\n",
    "\n",
    "# Create an instance of the XGBClassifier\n",
    "model = XGBClassifier(objective='multi:softprob')\n",
    "\n",
    "# Fit the model to the training data\n",
    "model.fit(X_train, y_train)"
   ]
  },
  {
   "cell_type": "markdown",
   "metadata": {},
   "source": [
    "## Evaluation of the model"
   ]
  },
  {
   "cell_type": "code",
   "execution_count": 30,
   "metadata": {
    "collapsed": false
   },
   "outputs": [
    {
     "name": "stdout",
     "output_type": "stream",
     "text": [
      "[[3.7580019e-01 3.5073698e-01 4.6715662e-02 ... 4.3667917e-04\n",
      "  4.4313894e-04 4.3852624e-04]\n",
      " [3.3570987e-01 1.5625291e-01 5.9933510e-02 ... 4.0497191e-04\n",
      "  4.1096250e-04 4.0668473e-04]\n",
      " [3.2782006e-01 2.4530700e-01 6.9263332e-02 ... 5.3830916e-04\n",
      "  5.4627244e-04 5.4058619e-04]\n",
      " ...\n",
      " [7.9692090e-01 3.8869262e-02 1.1603139e-02 ... 3.3923329e-04\n",
      "  3.2681198e-04 2.6137804e-04]\n",
      " [3.3213252e-01 2.2384083e-01 5.9798356e-02 ... 5.4626697e-04\n",
      "  5.5434764e-04 5.4857734e-04]\n",
      " [1.9942243e-01 5.6509621e-02 6.6758096e-02 ... 4.0967594e-04\n",
      "  5.0580554e-04 4.1140846e-04]]\n",
      "(117294, 12)\n"
     ]
    }
   ],
   "source": [
    "# Predict the probability of each pitch type by running the model on the test data\n",
    "# FF = 0, SL = 1, SI = 2, CH = 3, CU = 4, FC = 5, FS = 6, KC = 7, KN = 8, FO = 9, EP = 10, SC = 11\n",
    "\n",
    "\n",
    "y_pred_proba = model.predict_proba(X_test)\n",
    "\n",
    "print(y_pred_proba)\n",
    "\n",
    "print(y_pred_proba.shape)"
   ]
  },
  {
   "cell_type": "code",
   "execution_count": 31,
   "metadata": {
    "collapsed": false
   },
   "outputs": [
    {
     "name": "stdout",
     "output_type": "stream",
     "text": [
      "Accuracy: 44.22%\n"
     ]
    },
    {
     "name": "stderr",
     "output_type": "stream",
     "text": [
      "//anaconda/lib/python2.7/site-packages/sklearn/preprocessing/label.py:171: DeprecationWarning: The truth value of an empty array is ambiguous. Returning False, but in future this will result in an error. Use `array.size > 0` to check that an array is not empty.\n",
      "  if diff:\n"
     ]
    }
   ],
   "source": [
    "# Calculate the accuracy\n",
    "\n",
    "accuracy = model.score(X_test, y_test)\n",
    "print(\"Accuracy: %.2f%%\" % (accuracy * 100.0))"
   ]
  },
  {
   "cell_type": "code",
   "execution_count": 32,
   "metadata": {
    "collapsed": false
   },
   "outputs": [
    {
     "name": "stdout",
     "output_type": "stream",
     "text": [
      "(117294,)\n",
      "[0 0 0 ... 0 0 4]\n"
     ]
    },
    {
     "name": "stderr",
     "output_type": "stream",
     "text": [
      "//anaconda/lib/python2.7/site-packages/sklearn/preprocessing/label.py:171: DeprecationWarning: The truth value of an empty array is ambiguous. Returning False, but in future this will result in an error. Use `array.size > 0` to check that an array is not empty.\n",
      "  if diff:\n"
     ]
    }
   ],
   "source": [
    "# Predict the most likely class by running the model on the test data\n",
    "\n",
    "y_pred = model.predict(X_test)\n",
    "\n",
    "print(y_pred.shape)\n",
    "\n",
    "print(y_pred)"
   ]
  },
  {
   "cell_type": "code",
   "execution_count": 33,
   "metadata": {
    "collapsed": false
   },
   "outputs": [
    {
     "name": "stdout",
     "output_type": "stream",
     "text": [
      "             precision    recall  f1-score   support\n",
      "\n",
      "          0       0.44      0.95      0.60     47498\n",
      "          1       0.41      0.11      0.18     22052\n",
      "          2       0.53      0.09      0.15      8802\n",
      "          3       0.41      0.05      0.10     14382\n",
      "          4       0.53      0.02      0.05     11271\n",
      "          5       0.57      0.15      0.24      8391\n",
      "          6       0.00      0.00      0.00      2129\n",
      "          7       0.50      0.14      0.22      1714\n",
      "          8       0.81      1.00      0.90       940\n",
      "          9       0.88      0.20      0.33        74\n",
      "         10       0.00      0.00      0.00        23\n",
      "         11       0.56      0.50      0.53        18\n",
      "\n",
      "avg / total       0.45      0.44      0.33    117294\n",
      "\n"
     ]
    },
    {
     "name": "stderr",
     "output_type": "stream",
     "text": [
      "//anaconda/lib/python2.7/site-packages/sklearn/metrics/classification.py:1113: UndefinedMetricWarning: Precision and F-score are ill-defined and being set to 0.0 in labels with no predicted samples.\n",
      "  'precision', 'predicted', average, warn_for)\n"
     ]
    }
   ],
   "source": [
    "from sklearn.metrics import classification_report\n",
    "\n",
    "# Print the classification report\n",
    "\n",
    "print(classification_report(y_test, y_pred))"
   ]
  },
  {
   "cell_type": "code",
   "execution_count": null,
   "metadata": {
    "collapsed": true
   },
   "outputs": [],
   "source": []
  }
 ],
 "metadata": {
  "kernelspec": {
   "display_name": "Python 2",
   "language": "python",
   "name": "python2"
  },
  "language_info": {
   "codemirror_mode": {
    "name": "ipython",
    "version": 2
   },
   "file_extension": ".py",
   "mimetype": "text/x-python",
   "name": "python",
   "nbconvert_exporter": "python",
   "pygments_lexer": "ipython2",
   "version": "2.7.16"
  }
 },
 "nbformat": 4,
 "nbformat_minor": 2
}
